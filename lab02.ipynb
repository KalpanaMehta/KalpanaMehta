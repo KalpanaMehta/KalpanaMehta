{
  "nbformat": 4,
  "nbformat_minor": 0,
  "metadata": {
    "colab": {
      "provenance": [],
      "authorship_tag": "ABX9TyOUtQUtFt0sCMhSAi7OY4UP",
      "include_colab_link": true
    },
    "kernelspec": {
      "name": "python3",
      "display_name": "Python 3"
    },
    "language_info": {
      "name": "python"
    }
  },
  "cells": [
    {
      "cell_type": "markdown",
      "metadata": {
        "id": "view-in-github",
        "colab_type": "text"
      },
      "source": [
        "<a href=\"https://colab.research.google.com/github/KalpanaMehta/KalpanaMehta/blob/main/lab02.ipynb\" target=\"_parent\"><img src=\"https://colab.research.google.com/assets/colab-badge.svg\" alt=\"Open In Colab\"/></a>"
      ]
    },
    {
      "cell_type": "code",
      "source": [
        "!pwd\n",
        "\n",
        "# !mkdir deepL\n",
        "# %cd deepL\n"
      ],
      "metadata": {
        "colab": {
          "base_uri": "https://localhost:8080/"
        },
        "id": "rUPsTyMgLjHs",
        "outputId": "c79650ee-7c27-42b8-a51f-134b98f09fc3"
      },
      "execution_count": 11,
      "outputs": [
        {
          "output_type": "stream",
          "name": "stdout",
          "text": [
            "/content\n",
            "/content/deepL\n"
          ]
        }
      ]
    },
    {
      "cell_type": "code",
      "execution_count": 13,
      "metadata": {
        "id": "leAKDgpgKPmJ"
      },
      "outputs": [],
      "source": [
        "from matplotlib import pyplot as plt\n",
        "import numpy as np\n",
        "import cv2\n",
        "from tensorflow.keras.preprocessing.image import img_to_array\n",
        "from tensorflow.keras.layers import Conv2D, MaxPooling2D, UpSampling2D\n",
        "from tensorflow.keras.models import Sequential, Model\n",
        "\n",
        "SIZE=256\n",
        "img_data=[]\n",
        "\n",
        "img=cv2.imread('/content/deepL/monalisa.jpeg', 1)   #Change 1 to 0 for grey images\n",
        "img = cv2.cvtColor(img, cv2.COLOR_BGR2RGB) #Changing BGR to RGB to show images in true colors\n",
        "img=cv2.resize(img,(SIZE, SIZE))\n",
        "img_data.append(img_to_array(img))\n",
        "\n",
        "img_array = np.reshape(img_data, (len(img_data), SIZE, SIZE, 3))\n",
        "img_array = img_array.astype('float32') / 255.\n",
        "\n",
        "\n",
        "from models import build_autoencoder\n",
        "\n",
        "model=build_autoencoder(img.shape)\n",
        "model.compile(optimizer='adam', loss='mean_squared_error', metrics=['accuracy'])\n",
        "print(model.summary())\n",
        "\n",
        "\n",
        "model.fit(img_array, img_array,\n",
        "        epochs=500,\n",
        "        shuffle=True)\n",
        "\n",
        "\n",
        "\n",
        "pred = model.predict(img_array)\n",
        "\n",
        "\n",
        "plt.subplot(1,2,1)\n",
        "plt.imshow(img)\n",
        "plt.title('Original')\n",
        "plt.subplot(1,2,2)\n",
        "plt.imshow(pred[0].reshape(SIZE,SIZE,3))\n",
        "plt.title('Reconstructed')\n",
        "plt.show()\n",
        "\n",
        "\n",
        "\n",
        "model2 = build_autoencoder(img.shape)\n",
        "\n",
        "my_model = model\n",
        "\n",
        "#set intermediate representations for all layers in the model\n",
        "# except for the first - as it is an input layer\n",
        "outputs = [layer.output for layer in my_model.layers[1:]]\n",
        "\n",
        "model_for_visualization = Model(inputs = my_model.input, outputs = outputs)\n",
        "\n",
        "\n",
        "input_img = img_array\n",
        "feature_maps = model_for_visualization.predict(input_img)\n",
        "\n",
        "#layer_names = [layer.name for layer in model2.layers]\n",
        "\n",
        "# plot all 64 maps in an 8x8 squares\n",
        "#import random\n",
        "#layer_num = random.randint(0, len(feature_maps)-1)\n",
        "layer_num = 32 #Depth of layer...\n",
        "square = 8\n",
        "ix = 1\n",
        "for _ in range(square):\n",
        "\tfor _ in range(square):\n",
        "\t\t# specify subplot and turn of axis\n",
        "\t\tax = plt.subplot(square, square, ix)\n",
        "\t\tax.set_xticks([])\n",
        "\t\tax.set_yticks([])\n",
        "\t\t# plot filter channel in grayscale\n",
        "\t\tplt.imshow(feature_maps[layer_num][0, :, :, ix-1])\n",
        "\t\tix += 1\n",
        "# show the figure\n",
        "plt.show()"
      ]
    },
    {
      "cell_type": "code",
      "source": [],
      "metadata": {
        "id": "pzGr5SCTKrH_"
      },
      "execution_count": null,
      "outputs": []
    }
  ]
}